{
 "cells": [
  {
   "cell_type": "code",
   "execution_count": 1,
   "metadata": {},
   "outputs": [
    {
     "name": "stdout",
     "output_type": "stream",
     "text": [
      "device =  CPU , using CPU and numpy\n"
     ]
    }
   ],
   "source": [
    "import numpy as np\n",
    "import matplotlib.pyplot as plt\n",
    "import scipy.signal as sig\n",
    "import cv2\n",
    "from skimage.transform import rescale, resize\n",
    "from skimage import color\n",
    "import os\n",
    "\n",
    "%load_ext autoreload\n",
    "%autoreload 2\n",
    "%matplotlib inline\n",
    "\n",
    "import scipy.io\n",
    "import os\n",
    "import cv2\n",
    "from PIL import Image\n",
    "os.environ['CUDA_DEVICE_ORDER'] = 'PCI_BUS_ID'\n",
    "os.environ['CUDA_VISIBLE_DEVICES'] = '1' # Change GPU here\n",
    "\n",
    "import recon.load_scripts_extended as loading\n",
    "from recon.helper_fns_extended import *\n",
    "\n",
    "# Choose CPU or GPU here:\n",
    "%run recon/fista_spectral_cupy.py CPU #GPU\n",
    "\n",
    "if device == 'GPU':\n",
    "    import cupy as np\n",
    "    np.cuda.Device(0).use()\n",
    "else:\n",
    "    import numpy as np\n",
    "\n",
    "from extended_fov_helpers import *"
   ]
  },
  {
   "cell_type": "markdown",
   "metadata": {},
   "source": [
    "full flow would look like:\n",
    "- generating a PSF\n",
    "- using the PSF name, run through forward model\n",
    "- once forward model is done, reconstruct\n",
    "- quantify extent"
   ]
  },
  {
   "cell_type": "markdown",
   "metadata": {},
   "source": [
    "## Generating PSFs"
   ]
  },
  {
   "cell_type": "code",
   "execution_count": 4,
   "metadata": {},
   "outputs": [
    {
     "data": {
      "application/vnd.jupyter.widget-view+json": {
       "model_id": "02662de0a08b4e6ebf0784773c698eed",
       "version_major": 2,
       "version_minor": 0
      },
      "text/plain": [
       "interactive(children=(FloatSlider(value=10.0, continuous_update=False, description='truncate', max=15.0), IntS…"
      ]
     },
     "metadata": {},
     "output_type": "display_data"
    },
    {
     "data": {
      "text/plain": [
       "<function extended_fov_helpers.plot_rml_irs(truncate, num_points, r, extent_h, extent_v, save_png=False, save_tiff=False, save_npy=False)>"
      ]
     },
     "execution_count": 4,
     "metadata": {},
     "output_type": "execute_result"
    }
   ],
   "source": [
    "## Random seed so we can reproduce the same results\n",
    "SEED = 11\n",
    "shape = (500, 500)\n",
    "random.seed(SEED)\n",
    "\n",
    "psf_index = 0\n",
    "\n",
    "interact_manual(plot_rml_irs, truncate=widgets.FloatSlider(min=0, max=15, step=0.1, value=10, continuous_update=False),\n",
    "         num_points=widgets.IntSlider(min=1, max=30, step=1, value=10, continuous_update=False),\n",
    "         r=widgets.IntSlider(min=1, max=20, step=1, value=5, continuous_update=False),\n",
    "         extent_h=widgets.IntSlider(min=0, max=shape[1], step=1, value=shape[1] - 50, continuous_update=False),\n",
    "         extent_v=widgets.IntSlider(min=0, max=shape[0], step=1, value=shape[0] - 50, continuous_update=False),\n",
    "         pause=widgets.Checkbox(value=False, description='Pause', disabled=False, indent=False),\n",
    "         save_png=widgets.Checkbox(value=False, description='Save as .png', disabled=False, indent=False),\n",
    "         save_tiff=widgets.Checkbox(value=False, description='Save as .tiff', disabled=False, indent=False),\n",
    "         save_npy=widgets.Checkbox(value=False, description='Save as .npy', disabled=False, indent=False))"
   ]
  },
  {
   "cell_type": "code",
   "execution_count": null,
   "metadata": {},
   "outputs": [],
   "source": [
    "for points in range(5, point_range, 5):\n",
    "    final_im = np.zeros(shape, np.uint8)\n",
    "    final_im, name = generate_rml_irs(final_im, bounds, truncate, points, rad, *extent)\n",
    "    if save:\n",
    "        save_final_im(final_im, name)"
   ]
  },
  {
   "cell_type": "markdown",
   "metadata": {},
   "source": [
    "## Foward Model"
   ]
  },
  {
   "cell_type": "code",
   "execution_count": 2,
   "metadata": {},
   "outputs": [],
   "source": [
    "GT_PATH = './penguin.PNG'\n",
    "PSF_PATH = './3-6-24_rml_mono8_3000.tiff'\n",
    "img_name = 'penguin'"
   ]
  },
  {
   "cell_type": "code",
   "execution_count": null,
   "metadata": {},
   "outputs": [],
   "source": [
    "img, psf = load(GT_PATH, psf=PSF_PATH)\n",
    "print(\"Original Image Dim:\", img.shape)\n",
    "img, scale_factor = rescale_img(img, 2, psf, gray=False, channel_axis=2)\n",
    "\n",
    "# crop to the same aspect ratio\n",
    "# scale_factor = (psf.shape[0] * 2, psf.shape[1]*2)\n",
    "# img = center_crop(img, dim=scale_factor)\n",
    "# print(\"X, Y scale factor: \", img.shape[:2])\n",
    "\n",
    "plt.figure()\n",
    "plt.imshow(img, cmap='gray')\n",
    "plt.title(\"Input Image, 2x Sensor Height\")\n",
    "\n",
    "fwd, result_name = forward(img, psf, gray=True, name=img_name)\n",
    "plt.figure()\n",
    "plt.imshow(fwd, cmap='gray')\n",
    "plt.title(f\"Sensor Measurement {fwd.shape[:2]}\")"
   ]
  },
  {
   "cell_type": "markdown",
   "metadata": {},
   "source": [
    "## Reconstruction Flow"
   ]
  },
  {
   "cell_type": "code",
   "execution_count": null,
   "metadata": {},
   "outputs": [
    {
     "name": "stdout",
     "output_type": "stream",
     "text": [
      "Tiled grayscale image to 3 channels..\n",
      "(850, 700, 3)\n"
     ]
    }
   ],
   "source": [
    "## image parameters\n",
    "gray_image = False\n",
    "f = 1\n",
    "\n",
    "path = './'\n",
    "results_path = 'results/'\n",
    "\n",
    "psf_name = ''\n",
    "object_name = 'patrick'\n",
    "\n",
    "# PSF_PATH is rolled over from the forward model. \n",
    "# result_name is the save destination for the forward model\n",
    "psf_path = PSF_PATH\n",
    "img_path = path + result_name\n",
    "\n",
    "psf, img, mask = preprocess(psf_path, img_path, f, gray_image=gray_image)"
   ]
  },
  {
   "cell_type": "code",
   "execution_count": null,
   "metadata": {},
   "outputs": [],
   "source": [
    "## Recon Parameters\n",
    "fista = fista_spectral_numpy(psf[:,:,1:2], mask[:,:,1:2], gray=gray_image) # green channel only\n",
    "\n",
    "# set FISTA parameters\n",
    "fista.iters = 50\n",
    "# Default: tv, Options: 'native' for native sparsity, 'non-neg' for enforcing non-negativity only\n",
    "fista.prox_method = 'tv'  \n",
    "fista.tv_lambda  = 1e-2  #1e-3, 1e-2, 1e-1\n",
    "fista.tv_lambdaw = 0.01 \n",
    "fista.print_every = 20\n",
    "\n",
    "## Run FISTA\n",
    "out_img = fista.run(img)\n",
    "\n",
    "## Display Results\n",
    "# green channel only of PSF\n",
    "cropped = out_img[0][0]\n",
    "uncropped = out_img[0][1]\n",
    "\n",
    "cropped_name = f'cropped_{psf_name}_{object_name}'\n",
    "uncropped_name = f'uncropped_{psf_name}_{object_name}'\n",
    "\n",
    "fig = plt.figure()\n",
    "plt.imshow(preplot(cropped))\n",
    "plt.axis('off') \n",
    "plt.imsave(path + cropped_name + '.png', preplot(cropped))\n",
    "\n",
    "\n",
    "plt.figure()\n",
    "plt.imshow(preplot(uncropped))\n",
    "plt.axis('off') \n",
    "plt.imsave(path + uncropped_name + '.png', preplot(uncropped))\n",
    "\n",
    "np.save(results_path + cropped_name + '.npy', cropped)\n",
    "np.save(results_path + uncropped_name + '.npy', uncropped)"
   ]
  },
  {
   "cell_type": "markdown",
   "metadata": {},
   "source": [
    "## Extent Quantification"
   ]
  },
  {
   "cell_type": "code",
   "execution_count": null,
   "metadata": {},
   "outputs": [],
   "source": [
    "cropped_path = 'extended_fov/psf-generation-tests/penguin/cropped-measurenments.npy'\n",
    "uncropped_path = 'extended_fov/psf-generation-tests/penguin/uncropped-measurenments.npy'\n",
    "\n",
    "params = {\n",
    "    'sigma': 0.5, \n",
    "    'low_threshold':0.2, \n",
    "    'high_threshold':1.0, \n",
    "    'show':True,\n",
    "}\n",
    "\n",
    "edges, h_increase, v_increase = get_extent_increase(cropped_path, uncropped_path, params, actual_shape=(744, 480))"
   ]
  }
 ],
 "metadata": {
  "kernelspec": {
   "display_name": ".venv",
   "language": "python",
   "name": "python3"
  },
  "language_info": {
   "codemirror_mode": {
    "name": "ipython",
    "version": 3
   },
   "file_extension": ".py",
   "mimetype": "text/x-python",
   "name": "python",
   "nbconvert_exporter": "python",
   "pygments_lexer": "ipython3",
   "version": "3.9.6"
  }
 },
 "nbformat": 4,
 "nbformat_minor": 2
}
